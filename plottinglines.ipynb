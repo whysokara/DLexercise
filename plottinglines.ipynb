{
 "cells": [
  {
   "cell_type": "code",
   "execution_count": null,
   "metadata": {},
   "outputs": [],
   "source": [
    "import matplotlib.pyplot as plt\n",
    "x = [3,4,3]\n",
    "y = [5,7,8]\n",
    "plt.legend(['Testing legends....'])\n",
    "\n",
    "plt.plot(x,y,'ms:') # color, shape, line type"
   ]
  }
 ],
 "metadata": {
  "language_info": {
   "name": "python"
  }
 },
 "nbformat": 4,
 "nbformat_minor": 2
}
