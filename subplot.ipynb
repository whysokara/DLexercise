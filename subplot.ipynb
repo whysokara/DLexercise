{
 "cells": [
  {
   "cell_type": "code",
   "execution_count": null,
   "metadata": {},
   "outputs": [],
   "source": [
    "import matplotlib.pyplot as plt\n",
    "import numpy as np\n",
    "\n",
    "plt.subplot(2,2,1) # row, column, position\n",
    "plt.plot(np.random.randn(10))\n",
    "\n",
    "plt.subplot(2,2,4)\n",
    "plt.plot(np.random.randn(10))"
   ]
  },
  {
   "cell_type": "code",
   "execution_count": null,
   "metadata": {},
   "outputs": [],
   "source": [
    "## New method\n",
    "\n",
    "fig, ax = plt.subplots(1,2)\n",
    "\n",
    "x = np.arange(10)\n",
    "\n",
    "ax[0].plot(x, x**2, 'b')\n",
    "ax[0].plot(x,x,'k')\n",
    "\n",
    "ax[1].plot(x, np.sqrt(x), 'r')\n",
    "\n",
    "plt.show()\n",
    "\n",
    "\n",
    "## 2*2 matrix\n",
    "fig, ax = plt.subplots(2,2)\n",
    "\n",
    "ax[0, 0].plot(np.random.randn(4,4))\n",
    "ax[0, 1].plot(np.random.randn(4,4))\n",
    "ax[1, 0].plot(np.random.randn(4,4))\n",
    "ax[1, 1].plot(np.random.randn(4,4))\n",
    "\n",
    "plt.tight_layout()\n",
    "plt.show()\n",
    "\n",
    "## Exercise\n",
    "fig, ax = plt.subplots(3,3, figsize=(7,7))\n",
    "\n",
    "for i in ax.flatten():\n",
    "  i.plot(np.random.randn(3,9))\n",
    "\n",
    "plt.show()"
   ]
  },
  {
   "cell_type": "code",
   "execution_count": null,
   "metadata": {},
   "outputs": [],
   "source": []
  }
 ],
 "metadata": {
  "language_info": {
   "name": "python"
  }
 },
 "nbformat": 4,
 "nbformat_minor": 2
}
